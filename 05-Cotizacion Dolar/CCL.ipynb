{
 "cells": [
  {
   "cell_type": "markdown",
   "id": "046d349d",
   "metadata": {},
   "source": [
    "Rava\n",
    "\n",
    "El dólar MEP (o dólar bolsa) surge a partir de la compraventa de bonos y acciones que coticen en el mercado local y en el extranjero. La cotización es el resultado de la división de la cantidad de pesos gastados en la compra de los bonos o acciones, por los dólares recibidos al venderlos. \n",
    "\n",
    "https://www.rava.com/perfil/DOLAR%20MEP\n",
    "\n",
    "\n",
    "https://iol.invertironline.com/titulo/datoshistoricos?mercado=bcba&simbolo=ay24&utm_source=chatgpt.com"
   ]
  },
  {
   "cell_type": "markdown",
   "id": "1fe20e3b",
   "metadata": {},
   "source": [
    "Para incluir en el marco teórico de una tesis una explicación sobre cómo se obtiene el dólar contado con liquidación (CCL) usando acciones del Banco Galicia, podés redactarlo así:\n",
    "\n",
    "---\n",
    "\n",
    "### Dólar contado con liquidación (CCL) mediante acciones del Banco Galicia\n",
    "\n",
    "El dólar contado con liquidación (CCL) es un tipo de cambio implícito que se obtiene mediante la compra-venta de activos financieros que cotizan tanto en el mercado argentino como en el exterior. Una de las operatorias más utilizadas para este fin involucra la compra de acciones locales del Banco Galicia (GGAL) en la Bolsa de Buenos Aires y su posterior venta como ADR (American Depositary Receipt) en el mercado de Nueva York.\n",
    "\n",
    "Para calcular el valor del dólar CCL a partir de esta operación, se utiliza la siguiente fórmula:\n",
    "\n",
    "$$\n",
    "\\text{Dólar CCL} = \\left( \\frac{\\text{Precio acción local (ARS)}}{\\text{Precio ADR en EE.UU. (USD)}} \\right) \\times \\text{Factor de conversión}\n",
    "$$\n",
    "\n",
    "En el caso de Galicia, el factor de conversión es 10, ya que un ADR representa diez acciones locales. Por lo tanto, si una acción de GGAL cotiza a \\$240 en Argentina y el ADR cotiza a USD 8 en EE.UU., el valor del dólar CCL será:\n",
    "\n",
    "$$\n",
    "\\left( \\frac{240}{8} \\right) \\times 10 = 300\n",
    "$$\n",
    "\n",
    "Este valor representa el tipo de cambio implícito al que se accede cuando se utilizan estas operaciones para dolarizar activos de forma legal, eludiendo restricciones cambiarias del mercado oficial.\n",
    "\n",
    "---\n",
    "\n",
    "### Cita en normas APA (7ª edición)\n",
    "\n",
    "> Bloomberg Línea. (2022, septiembre 1). *Dólar MEP y CCL en Argentina: cómo se calculan las cotizaciones*. [https://www.bloomberglinea.com/2022/09/01/dolar-mep-y-ccl-en-argentina-como-se-calculan-las-cotizaciones/](https://www.bloomberglinea.com/2022/09/01/dolar-mep-y-ccl-en-argentina-como-se-calculan-las-cotizaciones/)\n",
    "\n",
    "\n"
   ]
  },
  {
   "cell_type": "markdown",
   "id": "a29412a6",
   "metadata": {},
   "source": [
    "**¿Qué es un ADR?**\n",
    "\n",
    "Un *American Depositary Receipt* (ADR) es un certificado negociable emitido por un banco depositario de EE. UU. que representa una o varias acciones de una compañía extranjera; se liquida en dólares y cotiza en los mercados estadounidenses, permitiendo a los inversores acceder a títulos del exterior sin operar directamente en la plaza de origen ([sec.gov][1]).\n",
    "\n",
    "\n",
    "---\n",
    "\n",
    "### Ejemplo de citas y referencias en estilo APA (7.ª ed.)\n",
    "\n",
    "**Cita en el texto**\n",
    "\n",
    "> (U.S. Securities and Exchange Commission \\[SEC], 2012)\n",
    "> (SEC, 2025, § 239.36)\n",
    "\n",
    "**Lista de referencias**\n",
    "\n",
    "U.S. Securities and Exchange Commission. (2012, August). *Investor bulletin: American depositary receipts*. [https://www.sec.gov/investor/alerts/adr-bulletin.pdf](https://www.sec.gov/investor/alerts/adr-bulletin.pdf)\n",
    "\n",
    "\n",
    "\n",
    "[1]: https://www.sec.gov/investor/alerts/adr-bulletin.pdf \"Investor Bulletin: American Depositary Receipts\"\n",
    "\n"
   ]
  }
 ],
 "metadata": {
  "language_info": {
   "name": "python"
  }
 },
 "nbformat": 4,
 "nbformat_minor": 5
}
